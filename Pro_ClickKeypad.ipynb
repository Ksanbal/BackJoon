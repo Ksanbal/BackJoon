{
 "cells": [
  {
   "cell_type": "markdown",
   "metadata": {},
   "source": [
    "# 키패드 누르기"
   ]
  },
  {
   "cell_type": "markdown",
   "metadata": {},
   "source": [
    "#### [문제]\n",
    "스마트폰 전화 키패드의 각 칸에 다음과 같이 숫자들이 적혀 있습니다.\n",
    "<img src=\"https://grepp-programmers.s3.ap-northeast-2.amazonaws.com/files/production/4b69a271-5f4a-4bf4-9ebf-6ebed5a02d8d/kakao_phone1.png\" width=500>\n",
    "이 전화 키패드에서 왼손과 오른손의 엄지손가락만을 이용해서 숫자만을 입력하려고 합니다.\n",
    "맨 처음 왼손 엄지손가락은 * 키패드에 오른손 엄지손가락은 # 키패드 위치에서 시작하며, 엄지손가락을 사용하는 규칙은 다음과 같습니다.\n",
    "1. 엄지손가락은 상하좌우 4가지 방향으로만 이동할 수 있으며 키패드 이동 한 칸은 거리로 1에 해당합니다.\n",
    "1. 왼쪽 열의 3개의 숫자 1, 4, 7을 입력할 때는 왼손 엄지손가락을 사용합니다.\n",
    "1. 오른쪽 열의 3개의 숫자 3, 6, 9를 입력할 때는 오른손 엄지손가락을 사용합니다.\n",
    "1. 가운데 열의 4개의 숫자 2, 5, 8, 0을 입력할 때는 두 엄지손가락의 현재 키패드의 위치에서 더 가까운 엄지손가락을 사용합니다.<br>4-1. 만약 두 엄지손가락의 거리가 같다면, 오른손잡이는 오른손 엄지손가락, 왼손잡이는 왼손 엄지손가락을 사용합니다.\n",
    "\n",
    "순서대로 누를 번호가 담긴 배열 numbers, 왼손잡이인지 오른손잡이인 지를 나타내는 문자열 hand가 매개변수로 주어질 때, 각 번호를 누른 엄지손가락이 왼손인 지 오른손인 지를 나타내는 연속된 문자열 형태로 return 하도록 solution 함수를 완성해주세요.\n"
   ]
  },
  {
   "cell_type": "markdown",
   "metadata": {},
   "source": [
    "#### [제한사항]\n",
    "- numbers 배열의 크기는 1 이상 1,000 이하입니다.\n",
    "- numbers 배열 원소의 값은 0 이상 9 이하인 정수입니다.\n",
    "- hand는 \"left\" 또는 \"right\" 입니다.\n",
    "- \"left\"는 왼손잡이, \"right\"는 오른손잡이를 의미합니다.\n",
    "- 왼손 엄지손가락을 사용한 경우는 L, 오른손 엄지손가락을 사용한 경우는 R을 순서대로 이어붙여 문자열 형태로 return 해주세요."
   ]
  },
  {
   "cell_type": "markdown",
   "metadata": {},
   "source": [
    "#### [입출력 예에 대한 설명]\n",
    "##### 입출력 예 #1\n",
    "순서대로 눌러야 할 번호가 [1, 3, 4, 5, 8, 2, 1, 4, 5, 9, 5]이고, 오른손잡이입니다.\n",
    "```\n",
    "*\t#\t1\tL\t1은 왼손으로 누릅니다.\n",
    "1\t#\t3\tR\t3은 오른손으로 누릅니다.\n",
    "1\t3\t4\tL\t4는 왼손으로 누릅니다.\n",
    "4\t3\t5\tL\t왼손 거리는 1, 오른손 거리는 2이므로 왼손으로 5를 누릅니다.\n",
    "5\t3\t8\tL\t왼손 거리는 1, 오른손 거리는 3이므로 왼손으로 8을 누릅니다.\n",
    "8\t3\t2\tR\t왼손 거리는 2, 오른손 거리는 1이므로 오른손으로 2를 누릅니다.\n",
    "8\t2\t1\tL\t1은 왼손으로 누릅니다.\n",
    "1\t2\t4\tL\t4는 왼손으로 누릅니다.\n",
    "4\t2\t5\tR\t왼손 거리와 오른손 거리가 1로 같으므로, 오른손으로 5를 누릅니다.\n",
    "4\t5\t9\tR\t9는 오른손으로 누릅니다.\n",
    "4\t9\t5\tL\t왼손 거리는 1, 오른손 거리는 2이므로 왼손으로 5를 누릅니다.\n",
    "5\t9\t-\t-\t\n",
    "``` \n",
    "##### 입출력 예 #2\n",
    "왼손잡이가 [7, 0, 8, 2, 8, 3, 1, 5, 7, 6, 2]를 순서대로 누르면 사용한 손은 `\"LRLLRRLLLRR\"`이 됩니다.\n",
    "##### 입출력 예 #3\n",
    "오른손잡이가 [1, 2, 3, 4, 5, 6, 7, 8, 9, 0]를 순서대로 누르면 사용한 손은 `\"LLRLLRLLRL\"`이 됩니다."
   ]
  },
  {
   "cell_type": "code",
   "execution_count": 1,
   "metadata": {},
   "outputs": [],
   "source": [
    "# 입출력 예\n",
    "numbers = [1, 3, 4, 5, 8, 2, 1, 4, 5, 9, 5], [7, 0, 8, 2, 8, 3, 1, 5, 7, 6, 2], [1, 2, 3, 4, 5, 6, 7, 8, 9, 0]\n",
    "hand = 'right', 'left', 'right'\n",
    "result = 'LRLLLRLLRRL', 'LRLLRRLLLRR', 'LLRLLRLLRL'"
   ]
  },
  {
   "cell_type": "code",
   "execution_count": 2,
   "metadata": {},
   "outputs": [],
   "source": [
    "# 문제풀이\n",
    "def solution(numbers, hand):\n",
    "    answer = []\n",
    "    L ,R = '*', '#'\n",
    "    kp = {\n",
    "        1:[0,0], 2:[0,1], 3:[0,2],\n",
    "        4:[1,0], 5:[1,1], 6:[1,2],\n",
    "        7:[2,0], 8:[2,1], 9:[2,2],\n",
    "        '*':[3,0], 0:[3,1], '#':[3,2]\n",
    "    }\n",
    "    for i in numbers:\n",
    "        if i in (1,4,7):\n",
    "            L = i\n",
    "            answer.append('L')\n",
    "        elif i in (3,6,9):\n",
    "            R = i\n",
    "            answer.append('R')\n",
    "        else:\n",
    "            Ld = abs(kp[i][0]-kp[L][0])+abs(kp[i][1]-kp[L][1])\n",
    "            Rd = abs(kp[i][0]-kp[R][0])+abs(kp[i][1]-kp[R][1])\n",
    "            if Ld<Rd:\n",
    "                L=i\n",
    "                answer.append('L')\n",
    "            elif Ld>Rd:\n",
    "                R=i\n",
    "                answer.append('R')\n",
    "            else:\n",
    "                if hand == 'left':\n",
    "                    L=i\n",
    "                    answer.append('L')\n",
    "                else:\n",
    "                    R=i\n",
    "                    answer.append('R')\n",
    "    return ''.join(answer)"
   ]
  },
  {
   "cell_type": "code",
   "execution_count": 3,
   "metadata": {},
   "outputs": [
    {
     "name": "stdout",
     "output_type": "stream",
     "text": [
      "입출력 예#1 테스트 통과\n",
      "입출력 예#2 테스트 통과\n",
      "입출력 예#3 테스트 통과\n"
     ]
    }
   ],
   "source": [
    "# 정답체크\n",
    "for i in range(len(result)):\n",
    "    if result[i] == solution(numbers[i], hand[i]):\n",
    "        print(f'입출력 예#{i+1} 테스트 통과')\n",
    "    else:\n",
    "        print(f'입출력 예#{i+1} 테스트 실패')"
   ]
  },
  {
   "cell_type": "markdown",
   "metadata": {},
   "source": [
    "#### [피드백]\n",
    "누군가 되게 신박한 코드를 썼을거라 생각했는데, 아직은 없더라...처음에 위치한 손가락에서 다음수까지의 거리를 구하는 부분이 틀려서 좌표식으로 변경해서 작성했다. 조건식을 줄이거나 재할당을 줄일 수 있는 방법을 모색할 필요가 있어보인다."
   ]
  }
 ],
 "metadata": {
  "kernelspec": {
   "display_name": "Python 3",
   "language": "python",
   "name": "python3"
  },
  "language_info": {
   "codemirror_mode": {
    "name": "ipython",
    "version": 3
   },
   "file_extension": ".py",
   "mimetype": "text/x-python",
   "name": "python",
   "nbconvert_exporter": "python",
   "pygments_lexer": "ipython3",
   "version": "3.7.6"
  }
 },
 "nbformat": 4,
 "nbformat_minor": 4
}

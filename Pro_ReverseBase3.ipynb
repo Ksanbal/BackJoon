{
 "cells": [
  {
   "cell_type": "markdown",
   "metadata": {},
   "source": [
    "# 3진법 뒤집기"
   ]
  },
  {
   "cell_type": "markdown",
   "metadata": {},
   "source": [
    "#### [문제]\n",
    "자연수 n이 매개변수로 주어집니다. n을 3진법 상에서 앞뒤로 뒤집은 후, 이를 다시 10진법으로 표현한 수를 return 하도록 solution 함수를 완성해주세요."
   ]
  },
  {
   "cell_type": "markdown",
   "metadata": {},
   "source": [
    "#### [제한사항]\n",
    "- n은 1 이상 100,000,000 이하인 자연수입니다."
   ]
  },
  {
   "cell_type": "markdown",
   "metadata": {},
   "source": [
    "#### [입출력 예에 대한 설명]\n",
    "\n",
    "##### 입출력 예 #1\n",
    "답을 도출하는 과정은 다음과 같습니다.<br>\n",
    "n (10진법)\tn (3진법)\t앞뒤 반전(3진법)\t10진법으로 표현<br>\n",
    "45\t1200\t0021\t7\n",
    "- 따라서 7을 return 해야 합니다.\n",
    "\n",
    "##### 입출력 예 #2\n",
    "답을 도출하는 과정은 다음과 같습니다.<br>\n",
    "n (10진법)\tn (3진법)\t앞뒤 반전(3진법)\t10진법으로 표현<br>\n",
    "125\t11122\t22111\t229\n",
    "- 따라서 229를 return 해야 합니다."
   ]
  },
  {
   "cell_type": "code",
   "execution_count": 1,
   "metadata": {},
   "outputs": [],
   "source": [
    "# 입출력 예\n",
    "n = 45, 125\n",
    "result = 7, 229"
   ]
  },
  {
   "cell_type": "code",
   "execution_count": 2,
   "metadata": {},
   "outputs": [],
   "source": [
    "def solution(n):\n",
    "    base3 = []\n",
    "    while True:\n",
    "        if n > 2:\n",
    "            base3.append(n%3)\n",
    "            quo = n//3\n",
    "            if quo<3:\n",
    "                base3.append(quo)\n",
    "                break\n",
    "            n=quo\n",
    "        else:\n",
    "            return n\n",
    "    answer = 0\n",
    "    for i in range(len(base3)):\n",
    "        answer += 3**(len(base3)-i-1)*base3[i]\n",
    "    return answer"
   ]
  },
  {
   "cell_type": "code",
   "execution_count": 3,
   "metadata": {},
   "outputs": [
    {
     "name": "stdout",
     "output_type": "stream",
     "text": [
      "입출력 예#1 테스트 통과\n",
      "입출력 예#2 테스트 통과\n"
     ]
    }
   ],
   "source": [
    "# 정답체크\n",
    "for i in range(len(result)):\n",
    "    if result[i] == solution(n[i]):\n",
    "        print(f'입출력 예#{i+1} 테스트 통과')\n",
    "    else:\n",
    "        print(f'입출력 예#{i+1} 테스트 실패')"
   ]
  },
  {
   "cell_type": "markdown",
   "metadata": {},
   "source": [
    "#### [피드백]\n",
    "진법 변환만 있었다면 재귀도 생각해볼 수 있었지만, 그 후 연산이 있으니까 반복으로 해결했다. 진법과 같은 문제를 해결할때는 n진법에서 n보다 작은 수를 고려하자"
   ]
  }
 ],
 "metadata": {
  "kernelspec": {
   "display_name": "Python 3",
   "language": "python",
   "name": "python3"
  },
  "language_info": {
   "codemirror_mode": {
    "name": "ipython",
    "version": 3
   },
   "file_extension": ".py",
   "mimetype": "text/x-python",
   "name": "python",
   "nbconvert_exporter": "python",
   "pygments_lexer": "ipython3",
   "version": "3.7.6"
  }
 },
 "nbformat": 4,
 "nbformat_minor": 4
}

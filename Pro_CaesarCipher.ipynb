{
 "cells": [
  {
   "cell_type": "markdown",
   "metadata": {},
   "source": [
    "# 시저 암호"
   ]
  },
  {
   "cell_type": "markdown",
   "metadata": {},
   "source": [
    "#### [문제설명]\n",
    "어떤 문장의 각 알파벳을 일정한 거리만큼 밀어서 다른 알파벳으로 바꾸는 암호화 방식을 시저 암호라고 합니다. 예를 들어 AB는 1만큼 밀면 BC가 되고, 3만큼 밀면 DE가 됩니다. z는 1만큼 밀면 a가 됩니다. 문자열 s와 거리 n을 입력받아 s를 n만큼 민 암호문을 만드는 함수, solution을 완성해 보세요."
   ]
  },
  {
   "cell_type": "markdown",
   "metadata": {},
   "source": [
    "#### [제한사항]\n",
    "- 공백은 아무리 밀어도 공백입니다.\n",
    "- s는 알파벳 소문자, 대문자, 공백으로만 이루어져 있습니다.\n",
    "- s의 길이는 8000이하입니다.\n",
    "- n은 1 이상, 25이하인 자연수입니다."
   ]
  },
  {
   "cell_type": "code",
   "execution_count": 22,
   "metadata": {},
   "outputs": [],
   "source": [
    "# 입출력 예\n",
    "s = 'AB', 'z', 'a B z'\n",
    "n = 1, 1, 4\n",
    "result = 'BC', 'a', 'e F d'"
   ]
  },
  {
   "cell_type": "code",
   "execution_count": 25,
   "metadata": {},
   "outputs": [],
   "source": [
    "# 문제풀이\n",
    "def solution(s, n):\n",
    "    answer = []\n",
    "    for i, v in enumerate(s):\n",
    "        if v == ' ':\n",
    "            answer.append(v)\n",
    "        else:\n",
    "            add = ord(v) + n\n",
    "            if v.islower() and add > 122:\n",
    "                add -= 26\n",
    "            elif v.isupper() and add > 90:\n",
    "                add -= 26\n",
    "            answer.append(chr(add))\n",
    "    return ''.join(answer)"
   ]
  },
  {
   "cell_type": "code",
   "execution_count": 28,
   "metadata": {},
   "outputs": [
    {
     "name": "stdout",
     "output_type": "stream",
     "text": [
      "입출력 예#1 테스트 통과\n",
      "입출력 예#2 테스트 통과\n",
      "입출력 예#3 테스트 통과\n"
     ]
    }
   ],
   "source": [
    "# 정답체크\n",
    "for i in range(len(result)):\n",
    "    if result[i] == solution(s[i], n[i]):\n",
    "        print(f'입출력 예#{i+1} 테스트 통과')\n",
    "    else:\n",
    "        print(f'입출력 예#{i+1} 테스트 실패')"
   ]
  },
  {
   "cell_type": "markdown",
   "metadata": {},
   "source": [
    "#### [피드백]\n",
    "처음에 n을 더했을때 zZ를 넘어가는걸 고려하짐 못했다.<br>\n",
    "```python\n",
    "# 다른 사람의 풀이\n",
    "def solution(s, n):\n",
    "    s = list(s)\n",
    "    for i, _ in enumerate(s):\n",
    "        if s[i].isupper():\n",
    "            s[i] = chr( (ord(s[i])-ord('A')+n)%26+ord('A') )\n",
    "        elif s[i].islower():\n",
    "            s[i] = chr( (ord(s[i])-ord('a')+n)%26+ord('a') )\n",
    "    return ''.join(s)\n",
    "```\n",
    "현재 글자 s가 소문자, 대문자에서 몇번째에 글자인지 확인한 후 'A'에서 다시 시작하는 방식. 생각지도 못했던 방식이라 아쉽다."
   ]
  }
 ],
 "metadata": {
  "kernelspec": {
   "display_name": "Python 3",
   "language": "python",
   "name": "python3"
  },
  "language_info": {
   "codemirror_mode": {
    "name": "ipython",
    "version": 3
   },
   "file_extension": ".py",
   "mimetype": "text/x-python",
   "name": "python",
   "nbconvert_exporter": "python",
   "pygments_lexer": "ipython3",
   "version": "3.7.6"
  }
 },
 "nbformat": 4,
 "nbformat_minor": 4
}

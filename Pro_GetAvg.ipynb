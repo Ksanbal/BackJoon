{
 "cells": [
  {
   "cell_type": "markdown",
   "metadata": {},
   "source": [
    "# 평균 구하기"
   ]
  },
  {
   "cell_type": "markdown",
   "metadata": {},
   "source": [
    "#### [문제설명]\n",
    "정수를 담고 있는 배열 arr의 평균값을 return하는 함수, solution을 완성해보세요."
   ]
  },
  {
   "cell_type": "markdown",
   "metadata": {},
   "source": [
    "#### [제한사항]\n",
    "- arr은 길이 1 이상, 100 이하인 배열입니다.\n",
    "- arr의 원소는 -10,000 이상 10,000 이하인 정수입니다."
   ]
  },
  {
   "cell_type": "code",
   "execution_count": 1,
   "metadata": {},
   "outputs": [],
   "source": [
    "# 입출력 예\n",
    "arr = [1,2,3,4], [5,5]\n",
    "result = 2.5, 5"
   ]
  },
  {
   "cell_type": "code",
   "execution_count": 2,
   "metadata": {},
   "outputs": [],
   "source": [
    "# 문제풀이\n",
    "def solution(arr):\n",
    "    return sum(arr)/len(arr)"
   ]
  },
  {
   "cell_type": "code",
   "execution_count": 3,
   "metadata": {},
   "outputs": [
    {
     "name": "stdout",
     "output_type": "stream",
     "text": [
      "입출력 예#1 테스트 통과\n",
      "입출력 예#2 테스트 통과\n"
     ]
    }
   ],
   "source": [
    "# 정답체크\n",
    "for i in range(len(result)):\n",
    "    if result[i] == solution(arr[i]):\n",
    "        print(f'입출력 예#{i+1} 테스트 통과')\n",
    "    else:\n",
    "        print(f'입출력 예#{i+1} 테스트 실패')"
   ]
  },
  {
   "cell_type": "markdown",
   "metadata": {},
   "source": [
    "#### [피드백]\n",
    "다른 사람 풀이 중 빈 list가 들어오는 경우를 신경쓴 코드도 있었는데, 문제에서 arr의 길이가 1이상이라고 해서 따로 신경쓰지 않았다."
   ]
  }
 ],
 "metadata": {
  "kernelspec": {
   "display_name": "Python 3",
   "language": "python",
   "name": "python3"
  },
  "language_info": {
   "codemirror_mode": {
    "name": "ipython",
    "version": 3
   },
   "file_extension": ".py",
   "mimetype": "text/x-python",
   "name": "python",
   "nbconvert_exporter": "python",
   "pygments_lexer": "ipython3",
   "version": "3.7.6"
  }
 },
 "nbformat": 4,
 "nbformat_minor": 4
}

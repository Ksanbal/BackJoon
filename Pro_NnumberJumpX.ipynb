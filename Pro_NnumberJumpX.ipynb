{
 "cells": [
  {
   "cell_type": "markdown",
   "metadata": {},
   "source": [
    "# x만큼 간격이 있는 n개의 숫자"
   ]
  },
  {
   "cell_type": "markdown",
   "metadata": {},
   "source": [
    "#### [문제]\n",
    "함수 solution은 정수 x와 자연수 n을 입력 받아, x부터 시작해 x씩 증가하는 숫자를 n개 지니는 리스트를 리턴해야 합니다. 다음 제한 조건을 보고, 조건을 만족하는 함수, solution을 완성해주세요."
   ]
  },
  {
   "cell_type": "markdown",
   "metadata": {},
   "source": [
    "#### [제한사항]\n",
    "- x는 -10000000 이상, 10000000 이하인 정수입니다.\n",
    "- n은 1000 이하인 자연수입니다."
   ]
  },
  {
   "cell_type": "code",
   "execution_count": 1,
   "metadata": {},
   "outputs": [],
   "source": [
    "# 입출력 예\n",
    "x = 2,4,-4\n",
    "n = 5,3,2\n",
    "result = [2,4,6,8,10], [4,8,12], [-4, -8]"
   ]
  },
  {
   "cell_type": "code",
   "execution_count": 2,
   "metadata": {},
   "outputs": [],
   "source": [
    "# 문제풀이\n",
    "def solution(x, n):\n",
    "    answer = [ x+x*i for i in range(n) ]\n",
    "    return answer"
   ]
  },
  {
   "cell_type": "code",
   "execution_count": 3,
   "metadata": {},
   "outputs": [
    {
     "name": "stdout",
     "output_type": "stream",
     "text": [
      "입출력 예#1 테스트 통과\n",
      "입출력 예#2 테스트 통과\n",
      "입출력 예#3 테스트 통과\n"
     ]
    }
   ],
   "source": [
    "# 정답체크\n",
    "for i in range(len(result)):\n",
    "    if result[i] == solution(x[i], n[i]):\n",
    "        print(f'입출력 예#{i+1} 테스트 통과')\n",
    "    else:\n",
    "        print(f'입출력 예#{i+1} 테스트 실패')"
   ]
  },
  {
   "cell_type": "markdown",
   "metadata": {},
   "source": [
    "#### [피드백]\n",
    "처음에 range(1, n+1)로 했는데, for 앞이 x+x*i인게 더 깔끔하고 보기 좋은 것 같아서 변경"
   ]
  }
 ],
 "metadata": {
  "kernelspec": {
   "display_name": "Python 3",
   "language": "python",
   "name": "python3"
  },
  "language_info": {
   "codemirror_mode": {
    "name": "ipython",
    "version": 3
   },
   "file_extension": ".py",
   "mimetype": "text/x-python",
   "name": "python",
   "nbconvert_exporter": "python",
   "pygments_lexer": "ipython3",
   "version": "3.7.6"
  }
 },
 "nbformat": 4,
 "nbformat_minor": 4
}

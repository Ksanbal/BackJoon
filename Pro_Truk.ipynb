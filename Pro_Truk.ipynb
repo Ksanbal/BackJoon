{
 "cells": [
  {
   "cell_type": "markdown",
   "metadata": {},
   "source": [
    "# 다리를 지나는 트럭"
   ]
  },
  {
   "cell_type": "markdown",
   "metadata": {},
   "source": [
    "#### [문제설명]\n",
    "트럭 여러 대가 강을 가로지르는 일 차선 다리를 정해진 순으로 건너려 합니다. 모든 트럭이 다리를 건너려면 최소 몇 초가 걸리는지 알아내야 합니다. 트럭은 1초에 1만큼 움직이며, 다리 길이는 bridge_length이고 다리는 무게 weight까지 견딥니다.\n",
    "\n",
    "※ 트럭이 다리에 완전히 오르지 않은 경우, 이 트럭의 무게는 고려하지 않습니다.\n",
    "\n",
    "예를 들어, 길이가 2이고 10kg 무게를 견디는 다리가 있습니다. 무게가 [7, 4, 5, 6]kg인 트럭이 순서대로 최단 시간 안에 다리를 건너려면 다음과 같이 건너야 합니다.\n",
    "\n",
    "<table class=\"table\">\n",
    "                                    <thead>\n",
    "                                        <tr>\n",
    "                                            <th>경과 시간</th>\n",
    "                                            <th>다리를 지난 트럭</th>\n",
    "                                            <th>다리를 건너는 트럭</th>\n",
    "                                            <th>대기 트럭</th>\n",
    "                                        </tr>\n",
    "                                    </thead>\n",
    "                                    <tbody>\n",
    "                                        <tr>\n",
    "                                            <td>0</td>\n",
    "                                            <td>[]</td>\n",
    "                                            <td>[]</td>\n",
    "                                            <td>[7,4,5,6]</td>\n",
    "                                        </tr>\n",
    "                                        <tr>\n",
    "                                            <td>1~2</td>\n",
    "                                            <td>[]</td>\n",
    "                                            <td>[7]</td>\n",
    "                                            <td>[4,5,6]</td>\n",
    "                                        </tr>\n",
    "                                        <tr>\n",
    "                                            <td>3</td>\n",
    "                                            <td>[7]</td>\n",
    "                                            <td>[4]</td>\n",
    "                                            <td>[5,6]</td>\n",
    "                                        </tr>\n",
    "                                        <tr>\n",
    "                                            <td>4</td>\n",
    "                                            <td>[7]</td>\n",
    "                                            <td>[4,5]</td>\n",
    "                                            <td>[6]</td>\n",
    "                                        </tr>\n",
    "                                        <tr>\n",
    "                                            <td>5</td>\n",
    "                                            <td>[7,4]</td>\n",
    "                                            <td>[5]</td>\n",
    "                                            <td>[6]</td>\n",
    "                                        </tr>\n",
    "                                        <tr>\n",
    "                                            <td>6~7</td>\n",
    "                                            <td>[7,4,5]</td>\n",
    "                                            <td>[6]</td>\n",
    "                                            <td>[]</td>\n",
    "                                        </tr>\n",
    "                                        <tr>\n",
    "                                            <td>8</td>\n",
    "                                            <td>[7,4,5,6]</td>\n",
    "                                            <td>[]</td>\n",
    "                                            <td>[]</td>\n",
    "                                        </tr>\n",
    "                                    </tbody>\n",
    "                                </table>\n",
    "\n",
    "따라서, 모든 트럭이 다리를 지나려면 최소 8초가 걸립니다.\n",
    "\n",
    "solution 함수의 매개변수로 다리 길이 bridge_length, 다리가 견딜 수 있는 무게 weight, 트럭별 무게 truck_weights가 주어집니다. 이때 모든 트럭이 다리를 건너려면 최소 몇 초가 걸리는지 return 하도록 solution 함수를 완성하세요."
   ]
  },
  {
   "cell_type": "markdown",
   "metadata": {},
   "source": [
    "#### [제한사항]\n",
    "- bridge_length는 1 이상 10,000 이하입니다.\n",
    "- weight는 1 이상 10,000 이하입니다.\n",
    "- truck_weights의 길이는 1 이상 10,000 이하입니다.\n",
    "- 모든 트럭의 무게는 1 이상 weight 이하입니다."
   ]
  },
  {
   "cell_type": "code",
   "execution_count": 1,
   "metadata": {},
   "outputs": [],
   "source": [
    "# 입출력 예\n",
    "bridge_length = 2,100,100\n",
    "weight = 10, 100, 100\n",
    "truck_weights = [7,4,5,6], [10], [10,10,10,10,10,10,10,10,10,10]\n",
    "result = 8, 101, 110"
   ]
  },
  {
   "cell_type": "code",
   "execution_count": 2,
   "metadata": {},
   "outputs": [],
   "source": [
    "# 문제풀이\n",
    "def solution(bridge_length, weight, truck_weights):\n",
    "    time = 1\n",
    "    ing = []\n",
    "    value = []\n",
    "    while True:\n",
    "        if value and value[0] > bridge_length:\n",
    "            ing.pop(0)\n",
    "            value.pop(0)\n",
    "            \n",
    "        if truck_weights and sum(ing)+truck_weights[0] <= weight:\n",
    "            ing.append(truck_weights[0])\n",
    "            value.append(1)\n",
    "            truck_weights.pop(0)\n",
    "            \n",
    "        for i in range(len(value)):\n",
    "            value[i]+=1\n",
    "        \n",
    "        if not ing:\n",
    "            return time\n",
    "        time += 1"
   ]
  },
  {
   "cell_type": "code",
   "execution_count": 3,
   "metadata": {},
   "outputs": [],
   "source": [
    "# 문제풀이 2\n",
    "def solution2(bridge_length, weight, truck_weights):\n",
    "    ing = [0 for i in range(bridge_length)]\n",
    "    time = 0\n",
    "    while ing:\n",
    "        time+=1\n",
    "        ing.pop(0)\n",
    "        if truck_weights:\n",
    "            if sum(ing)+truck_weights[0]<=weight:\n",
    "                ing.append(truck_weights.pop(0))\n",
    "            else:\n",
    "                ing.append(0)\n",
    "    return time"
   ]
  },
  {
   "cell_type": "code",
   "execution_count": 4,
   "metadata": {},
   "outputs": [
    {
     "name": "stdout",
     "output_type": "stream",
     "text": [
      "입출력 예#1 테스트 통과\n",
      "입출력 예#2 테스트 통과\n",
      "입출력 예#3 테스트 통과\n"
     ]
    }
   ],
   "source": [
    "# 정답체크\n",
    "for i in range(len(result)):\n",
    "    if result[i] == solution(bridge_length[i], weight[i], truck_weights[i]):\n",
    "        print(f'입출력 예#{i+1} 테스트 통과')\n",
    "    else:\n",
    "        print(f'입출력 예#{i+1} 테스트 실패')"
   ]
  },
  {
   "cell_type": "markdown",
   "metadata": {},
   "source": [
    "#### [피드백]\n",
    "다리에서 트럭을 빼는 것과 넣는 것 중 어느걸 먼저 수행할 것인가에 대한 문제가 있었다. 결론적으로 트럭이 다리위에 있는 시간을 따로 저장해서 해결했는데, 다른 사람의 풀이 중 실제로 다리처럼 만들어서 하는 경우를 보고 괜찮은 아이디어라고 생각했다. sum()이 시간복잡도를 높힌다고 하는데 뭐...그럴 수 있지"
   ]
  }
 ],
 "metadata": {
  "kernelspec": {
   "display_name": "Python 3",
   "language": "python",
   "name": "python3"
  },
  "language_info": {
   "codemirror_mode": {
    "name": "ipython",
    "version": 3
   },
   "file_extension": ".py",
   "mimetype": "text/x-python",
   "name": "python",
   "nbconvert_exporter": "python",
   "pygments_lexer": "ipython3",
   "version": "3.7.6"
  }
 },
 "nbformat": 4,
 "nbformat_minor": 4
}

{
 "cells": [
  {
   "cell_type": "markdown",
   "metadata": {},
   "source": [
    "# 두 개 뽑아서 더하기"
   ]
  },
  {
   "cell_type": "markdown",
   "metadata": {},
   "source": [
    "#### [문제설명]\n",
    "정수 배열 numbers가 주어집니다. numbers에서 서로 다른 인덱스에 있는 두 개의 수를 뽑아 더해서 만들 수 있는 모든 수를 배열에 오름차순으로 담아 return 하도록 solution 함수를 완성해주세요."
   ]
  },
  {
   "cell_type": "markdown",
   "metadata": {},
   "source": [
    "#### [제한사항]\n",
    "- numbers의 길이는 2 이상 100 이하입니다.\n",
    "    - numbers의 모든 수는 0 이상 100 이하입니다."
   ]
  },
  {
   "cell_type": "markdown",
   "metadata": {},
   "source": [
    "#### [입출력 예 설명]\n",
    "- 입출력 예 #1<br>\n",
    "    - 2 = 1 + 1 입니다. (1이 numbers에 두 개 있습니다.)\n",
    "    - 3 = 2 + 1 입니다.\n",
    "    - 4 = 1 + 3 입니다.\n",
    "    - 5 = 1 + 4 = 2 + 3 입니다.\n",
    "    - 6 = 2 + 4 입니다.\n",
    "    - 7 = 3 + 4 입니다.<br>\n",
    "따라서 [2,3,4,5,6,7] 을 return 해야 합니다.\n",
    "- 입출력 예 #2\n",
    "    - 2 = 0 + 2 입니다.\n",
    "    - 5 = 5 + 0 입니다.\n",
    "    - 7 = 0 + 7 = 5 + 2 입니다.\n",
    "    - 9 = 2 + 7 입니다.\n",
    "    - 12 = 5 + 7 입니다.<br>\n",
    "따라서 [2,5,7,9,12] 를 return 해야 합니다."
   ]
  },
  {
   "cell_type": "code",
   "execution_count": 1,
   "metadata": {},
   "outputs": [],
   "source": [
    "# 입출력 예\n",
    "arr = [2,1,3,4,1], [5,0,2,7]\n",
    "result = [2,3,4,5,6,7], [2,5,7,9,12]"
   ]
  },
  {
   "cell_type": "code",
   "execution_count": 2,
   "metadata": {},
   "outputs": [],
   "source": [
    "# 문제풀이\n",
    "def solution(numbers):\n",
    "    answer_set = set()\n",
    "    for n, i in enumerate(numbers):\n",
    "        for t in numbers[n+1:]:\n",
    "            answer_set.add(i+t)\n",
    "    answer = sorted(list(answer_set))\n",
    "    \n",
    "    return answer"
   ]
  },
  {
   "cell_type": "code",
   "execution_count": 3,
   "metadata": {},
   "outputs": [
    {
     "name": "stdout",
     "output_type": "stream",
     "text": [
      "입출력 예#1 테스트 통과\n",
      "입출력 예#2 테스트 통과\n"
     ]
    }
   ],
   "source": [
    "# 정답체크\n",
    "for i in range(len(result)):\n",
    "    if result[i] == solution(arr[i]):\n",
    "        print(f'입출력 예#{i+1} 테스트 통과')\n",
    "    else:\n",
    "        print(f'입출력 예#{i+1} 테스트 실패')"
   ]
  },
  {
   "cell_type": "markdown",
   "metadata": {},
   "source": [
    "#### [피드백]\n",
    "두 수의 합이 중복되는 걸 방지하기 위해서 set에 저장한 후 list로 바꿔서 정렬시켰다. "
   ]
  }
 ],
 "metadata": {
  "kernelspec": {
   "display_name": "Python 3",
   "language": "python",
   "name": "python3"
  },
  "language_info": {
   "codemirror_mode": {
    "name": "ipython",
    "version": 3
   },
   "file_extension": ".py",
   "mimetype": "text/x-python",
   "name": "python",
   "nbconvert_exporter": "python",
   "pygments_lexer": "ipython3",
   "version": "3.7.6"
  }
 },
 "nbformat": 4,
 "nbformat_minor": 4
}

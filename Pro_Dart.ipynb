{
 "cells": [
  {
   "cell_type": "markdown",
   "metadata": {},
   "source": [
    "# 다트 게임"
   ]
  },
  {
   "cell_type": "markdown",
   "metadata": {},
   "source": [
    "#### [문제설명]\n",
    "카카오톡에 뜬 네 번째 별! 심심할 땐? 카카오톡 게임별~\n",
    "<img src=\"http://t1.kakaocdn.net/welcome2018/gamestar.png\">\n",
    "카카오톡 게임별의 하반기 신규 서비스로 다트 게임을 출시하기로 했다. 다트 게임은 다트판에 다트를 세 차례 던져 그 점수의 합계로 실력을 겨루는 게임으로, 모두가 간단히 즐길 수 있다.\n",
    "갓 입사한 무지는 코딩 실력을 인정받아 게임의 핵심 부분인 점수 계산 로직을 맡게 되었다. 다트 게임의 점수 계산 로직은 아래와 같다.\n",
    "\n",
    "1. 다트 게임은 총 3번의 기회로 구성된다.\n",
    "1. 각 기회마다 얻을 수 있는 점수는 0점에서 10점까지이다.\n",
    "1. 점수와 함께 Single(S), Double(D), Triple(T) 영역이 존재하고 각 영역 당첨 시 점수에서 1제곱, 2제곱, 3제곱 (점수1 , 점수2 , 점수3 )으로 계산된다.\n",
    "1. 옵션으로 스타상(*) , 아차상(#)이 존재하며 스타상(*) 당첨 시 해당 점수와 바로 전에 얻은 점수를 각 2배로 만든다. 아차상(#) 당첨 시 해당 점수는 마이너스된다.\n",
    "1. 스타상(*)은 첫 번째 기회에서도 나올 수 있다. 이 경우 첫 번째 스타상(*)의 점수만 2배가 된다. (예제 4번 참고)\n",
    "1. 스타상(*)의 효과는 다른 스타상(*)의 효과와 중첩될 수 있다. 이 경우 중첩된 스타상(*) 점수는 4배가 된다. (예제 4번 참고)\n",
    "1. 스타상(*)의 효과는 아차상(#)의 효과와 중첩될 수 있다. 이 경우 중첩된 아차상(#)의 점수는 -2배가 된다. (예제 5번 참고)\n",
    "1. Single(S), Double(D), Triple(T)은 점수마다 하나씩 존재한다.\n",
    "1. 스타상(*), 아차상(#)은 점수마다 둘 중 하나만 존재할 수 있으며, 존재하지 않을 수도 있다.\n",
    "\n",
    "0~10의 정수와 문자 S, D, T, *, #로 구성된 문자열이 입력될 시 총점수를 반환하는 함수를 작성하라."
   ]
  },
  {
   "cell_type": "markdown",
   "metadata": {},
   "source": [
    "#### [입력 형식]\n",
    "\"점수|보너스|[옵션]\"으로 이루어진 문자열 3세트.<br>\n",
    "예) 1S2D*3T\n",
    "- 점수는 0에서 10 사이의 정수이다.\n",
    "- 보너스는 S, D, T 중 하나이다.\n",
    "- 옵선은 *이나 # 중 하나이며, 없을 수도 있다."
   ]
  },
  {
   "cell_type": "markdown",
   "metadata": {},
   "source": [
    "#### [출력 형식]\n",
    "3번의 기회에서 얻은 점수 합계에 해당하는 정수값을 출력한다.<br>\n",
    "예) 37"
   ]
  },
  {
   "cell_type": "code",
   "execution_count": 1,
   "metadata": {},
   "outputs": [],
   "source": [
    "# 입출력 예\n",
    "dartResult = '1S2D*3T', '1D2S#10S', '1D2S0T', '1S*2T*3S', '1D#2S*3S', '1T2D3D#', '1D2S3T*'\n",
    "answer = 37,9,3,23,5,-4,59"
   ]
  },
  {
   "cell_type": "code",
   "execution_count": 2,
   "metadata": {},
   "outputs": [],
   "source": [
    "# 문제풀이\n",
    "def solution(dartResult):\n",
    "    index = -1\n",
    "    ispass = False\n",
    "    answer = []\n",
    "    sdt = {'S':1, 'D':2, 'T':3}\n",
    "    dartResult = dartResult.replace('10', 'K')\n",
    "    for n,i in enumerate(dartResult):\n",
    "        if i.isdigit():\n",
    "            index+=1\n",
    "            answer.append(int(i))\n",
    "        elif i == 'K':\n",
    "            index+=1\n",
    "            answer.append(10)\n",
    "        elif i in 'SDT':\n",
    "            answer[index] = pow(answer[index], sdt[i])\n",
    "        elif index==0 and i=='*':\n",
    "            answer[index] = answer[index]*2\n",
    "        elif index!=0 and i=='*':\n",
    "            answer[index] = answer[index]*2\n",
    "            answer[index-1] = answer[index-1]*2\n",
    "        elif i=='#':\n",
    "            answer[index] = answer[index]*-1\n",
    "    return sum(answer)"
   ]
  },
  {
   "cell_type": "code",
   "execution_count": 3,
   "metadata": {},
   "outputs": [],
   "source": [
    "#정규식으로 풀기\n",
    "import re\n",
    "\n",
    "def solution(dartResult):\n",
    "    bonus = {'S':1, 'D':2, 'T':3}\n",
    "    option = {'':1, '*':2, '#':-1}\n",
    "    dart = re.compile('(\\d+)([SDT])([*#]?)').findall(dartResult)\n",
    "    for i in range(len(dart)):\n",
    "        if dart[i][2]=='*' and i>0:\n",
    "            dart[i-1] *= 2\n",
    "        dart[i] = int(dart[i][0]) ** bonus[dart[i][1]] * option[dart[i][2]]\n",
    "        \n",
    "    return sum(dart)"
   ]
  },
  {
   "cell_type": "code",
   "execution_count": 4,
   "metadata": {},
   "outputs": [
    {
     "name": "stdout",
     "output_type": "stream",
     "text": [
      "입출력 예#1 테스트 통과\n",
      "입출력 예#2 테스트 통과\n",
      "입출력 예#3 테스트 통과\n",
      "입출력 예#4 테스트 통과\n",
      "입출력 예#5 테스트 통과\n",
      "입출력 예#6 테스트 통과\n",
      "입출력 예#7 테스트 통과\n"
     ]
    }
   ],
   "source": [
    "# 정답체크\n",
    "for i in range(len(answer)):\n",
    "    if answer[i] == solution(dartResult[i]):\n",
    "        print(f'입출력 예#{i+1} 테스트 통과')\n",
    "    else:\n",
    "        print(f'입출력 예#{i+1} 테스트 실패')"
   ]
  },
  {
   "cell_type": "markdown",
   "metadata": {},
   "source": [
    "#### [피드백]\n",
    "결론부터 말하면 개망했다.\n",
    "요소 하나씩으로 계산하는 방법을 세웠으나 10을 뽑아낼 방법을 찾지 못했고, 정규표현식을 쓰려고했으나 이해도가 부족해 작성할 수가 없었다. 결국 다른 사람의 풀이를 찾아봤고 해결책을 찾았다.<br>\n",
    "요소를 하나씩 꺼내는 방법에서는 10을 다른 문자열로 대체한 후 계산하면 해결가능했다. replace를 잘 이용해보자.<br>\n",
    "정규표현식을 사용하는 경우에는 정규표현식 사용방법 자체를 알게됬다. 이렇게 푸는게 맨 처음에 내가 세웠던 식에 더 알맞은 방법이라고 생각한다."
   ]
  }
 ],
 "metadata": {
  "kernelspec": {
   "display_name": "Python 3",
   "language": "python",
   "name": "python3"
  },
  "language_info": {
   "codemirror_mode": {
    "name": "ipython",
    "version": 3
   },
   "file_extension": ".py",
   "mimetype": "text/x-python",
   "name": "python",
   "nbconvert_exporter": "python",
   "pygments_lexer": "ipython3",
   "version": "3.7.6"
  }
 },
 "nbformat": 4,
 "nbformat_minor": 4
}

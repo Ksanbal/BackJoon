{
 "cells": [
  {
   "cell_type": "markdown",
   "metadata": {},
   "source": [
    "# 비밀지도"
   ]
  },
  {
   "cell_type": "markdown",
   "metadata": {},
   "source": [
    "#### [문제설명]\n",
    "네오는 평소 프로도가 비상금을 숨겨놓는 장소를 알려줄 비밀지도를 손에 넣었다. 그런데 이 비밀지도는 숫자로 암호화되어 있어 위치를 확인하기 위해서는 암호를 해독해야 한다. 다행히 지도 암호를 해독할 방법을 적어놓은 메모도 함께 발견했다.\n",
    "1. 지도는 한 변의 길이가 n인 정사각형 배열 형태로, 각 칸은 \"공백\"(\" \") 또는 \"벽\"(\"#\") 두 종류로 이루어져 있다.\n",
    "1. 전체 지도는 두 장의 지도를 겹쳐서 얻을 수 있다. 각각 지도 1과 지도 2라고 하자. 지도 1 또는 지도 2 중 어느 하나라도 벽인 부분은 전체 지도에서도 벽이다. 지도 1과 지도 2에서 모두 공백인 부분은 전체 지도에서도 공백이다.\n",
    "1. '지도 1'과 '지도 2'는 각각 정수 배열로 암호화되어 있다.\n",
    "1. 암호화된 배열은 지도의 각 가로줄에서 벽 부분을 1, 공백 부분을 0으로 부호화했을 때 얻어지는 이진수에 해당하는 값의 배열이다.\n",
    "<img src=\"http://t1.kakaocdn.net/welcome2018/secret8.png\">\n",
    "네오가 프로도의 비상금을 손에 넣을 수 있도록, 비밀지도의 암호를 해독하는 작업을 도와줄 프로그램을 작성하라."
   ]
  },
  {
   "cell_type": "markdown",
   "metadata": {},
   "source": [
    "#### [입력형식]\n",
    "입력으로 지도의 한 변 크기 n 과 2개의 정수 배열 arr1, arr2가 들어온다.\n",
    "- 1 ≦ n ≦ 16\n",
    "- arr1, arr2는 길이 n인 정수 배열로 주어진다.\n",
    "- 정수 배열의 각 원소 x를 이진수로 변환했을 때의 길이는 n 이하이다. 즉, 0 ≦ x ≦ 2<sup>n</sup> - 1을 만족한다."
   ]
  },
  {
   "cell_type": "markdown",
   "metadata": {},
   "source": [
    "#### [출력형식]\n",
    "원래의 비밀지도를 해독하여 '#', 공백으로 구성된 문자열 배열로 출력하라."
   ]
  },
  {
   "cell_type": "code",
   "execution_count": 149,
   "metadata": {},
   "outputs": [],
   "source": [
    "# 입출력 예\n",
    "n = 5,6\n",
    "arr1 = [9, 20, 28, 18, 11], [46, 33, 33 ,22, 31, 50]\n",
    "arr2 = [30, 1, 21, 17, 28], [27 ,56, 19, 14, 14, 10]\n",
    "result = [\"#####\",\"# # #\", \"### #\", \"#  ##\", \"#####\"], ['######', '###  #', '##  ##', ' #### ', ' #####', '### # ']"
   ]
  },
  {
   "cell_type": "code",
   "execution_count": 150,
   "metadata": {},
   "outputs": [],
   "source": [
    "# 문제풀이\n",
    "import numpy as np\n",
    "def solution(n, arr1, arr2):\n",
    "    answer = []\n",
    "    for i in range(n):\n",
    "        b = [format(_, 'b') for _ in (arr1[i], arr2[i])]\n",
    "        b1 = list(np.add(\n",
    "            [int(_) for _ in list('0'*(n-len(b[0]))+b[0])],\n",
    "            [int(_) for _ in list('0'*(n-len(b[1]))+b[1])]\n",
    "        ))\n",
    "        answer.append( ''.join([' ' if _==0 else '#' for _ in b1]) )\n",
    "    return answer"
   ]
  },
  {
   "cell_type": "code",
   "execution_count": 153,
   "metadata": {},
   "outputs": [],
   "source": [
    "# 다른 사람의 풀이\n",
    "def solution(n, arr1, arr2):\n",
    "    answer = []\n",
    "    for i, j in zip(arr1, arr2):\n",
    "        b = format(i|j, 'b')\n",
    "        b = b.rjust(n, '0')\n",
    "        b = b.replace('1', '#')\n",
    "        b = b.replace('0', ' ')\n",
    "        answer.append(b)\n",
    "    return answer"
   ]
  },
  {
   "cell_type": "code",
   "execution_count": 154,
   "metadata": {},
   "outputs": [
    {
     "name": "stdout",
     "output_type": "stream",
     "text": [
      "입출력 예#1 테스트 통과\n",
      "입출력 예#2 테스트 통과\n"
     ]
    }
   ],
   "source": [
    "# 정답체크\n",
    "for i in range(len(result)):\n",
    "    if result[i] == solution(n[i], arr1[i], arr2[i]):\n",
    "        print(f'입출력 예#{i+1} 테스트 통과')\n",
    "    else:\n",
    "        print(f'입출력 예#{i+1} 테스트 실패')"
   ]
  },
  {
   "cell_type": "markdown",
   "metadata": {},
   "source": [
    "#### [피드백]\n",
    "초반에 비트연산을 고려했으나 or가 아닌 +로 생각해버리면서 다 하나씩 꺼내서 하는 식으로 풀어버리게 되었다.<br>\n",
    "2진수를 자리에 맞게 0을 채워주는 것에 대한 고민이 있었는데 .rjust()라는 함수는 처음 배웠다.<br>\n",
    "파이썬을 C처럼마저도 못푸는 마법..."
   ]
  }
 ],
 "metadata": {
  "kernelspec": {
   "display_name": "Python 3",
   "language": "python",
   "name": "python3"
  },
  "language_info": {
   "codemirror_mode": {
    "name": "ipython",
    "version": 3
   },
   "file_extension": ".py",
   "mimetype": "text/x-python",
   "name": "python",
   "nbconvert_exporter": "python",
   "pygments_lexer": "ipython3",
   "version": "3.7.6"
  }
 },
 "nbformat": 4,
 "nbformat_minor": 4
}
